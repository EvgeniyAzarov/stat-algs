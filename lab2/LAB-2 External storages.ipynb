{
 "cells": [
  {
   "cell_type": "code",
   "execution_count": 46,
   "id": "cdf814d4",
   "metadata": {},
   "outputs": [
    {
     "name": "stdout",
     "output_type": "stream",
     "text": [
      "env: CUDA_VISIBLE_DEVICES=6\n"
     ]
    }
   ],
   "source": [
    "%env CUDA_VISIBLE_DEVICES=6"
   ]
  },
  {
   "cell_type": "code",
   "execution_count": 47,
   "id": "2bad758e",
   "metadata": {},
   "outputs": [],
   "source": [
    "import numpy as np\n",
    "from matplotlib import pyplot as plt\n",
    "from tqdm.auto import tqdm\n",
    "# import tensorflow\n",
    "# from tensorflow import keras\n",
    "# from tensorflow.keras import layers"
   ]
  },
  {
   "cell_type": "code",
   "execution_count": 48,
   "id": "e19a0b96",
   "metadata": {},
   "outputs": [],
   "source": [
    "from PIL import Image\n",
    "import torch\n",
    "import torch.nn as nn\n",
    "import torchvision\n",
    "\n",
    "from torch.utils.data import DataLoader, Dataset\n",
    "from torchvision.datasets import ImageFolder\n",
    "from torchinfo import summary"
   ]
  },
  {
   "cell_type": "code",
   "execution_count": 49,
   "id": "af9f4672",
   "metadata": {},
   "outputs": [],
   "source": [
    "SEED = 42\n",
    "torch.manual_seed(SEED)\n",
    "np.random.seed(SEED)"
   ]
  },
  {
   "cell_type": "code",
   "execution_count": 50,
   "id": "bc04e7d9",
   "metadata": {},
   "outputs": [
    {
     "data": {
      "text/plain": [
       "'cuda'"
      ]
     },
     "execution_count": 50,
     "metadata": {},
     "output_type": "execute_result"
    }
   ],
   "source": [
    "device = \"cuda\" if torch.cuda.is_available() else \"cpu\"\n",
    "device"
   ]
  },
  {
   "cell_type": "markdown",
   "id": "b8a78d57",
   "metadata": {},
   "source": [
    "# 0. Підготовка\n",
    "\n",
    "Варіанти даних:\n",
    "1. https://keras.io/2.16/api/datasets/cifar10/\n",
    "2. https://keras.io/2.16/api/datasets/fashion_mnist/\n",
    "3. https://keras.io/2.16/api/datasets/mnist/\n",
    "\n",
    "Задачі:\n",
    "- Завантажте вибірку із keras\n",
    "- Зберіть архітекуру для 10-ти класової класифікації\n",
    "- Протестуйте що вона працює, викликавши функцію predict\n",
    "- Модель навчатимите в інших частинах роботи!!!\n",
    "\n",
    "Варіанти архітектур нейромереж:\n",
    "1. Lenet\n",
    "2. Alexnet\n",
    "\n",
    "Links:\n",
    "- https://keras.io/api/datasets/mnist/"
   ]
  },
  {
   "cell_type": "code",
   "execution_count": 51,
   "id": "ee178341",
   "metadata": {},
   "outputs": [
    {
     "name": "stdout",
     "output_type": "stream",
     "text": [
      "Files already downloaded and verified\n"
     ]
    }
   ],
   "source": [
    "cifar = torchvision.datasets.CIFAR10(\n",
    "    root=\"./data/cifar10\", \n",
    "    download=True,\n",
    "    transform=torchvision.transforms.ToTensor()\n",
    ")"
   ]
  },
  {
   "cell_type": "code",
   "execution_count": 52,
   "id": "b4ccabe5",
   "metadata": {},
   "outputs": [
    {
     "data": {
      "image/png": "[encoded data removed]",
      "text/plain": [
       "<Figure size 640x480 with 1 Axes>"
      ]
     },
     "metadata": {},
     "output_type": "display_data"
    }
   ],
   "source": [
    "img = cifar[128][0].permute(1, 2, 0)\n",
    "plt.imshow(img)\n",
    "plt.show()"
   ]
  },
  {
   "cell_type": "code",
   "execution_count": 53,
   "id": "d811a3b4",
   "metadata": {},
   "outputs": [],
   "source": [
    "class KindaLeNet(nn.Module):\n",
    "    def __init__(self):\n",
    "        super().__init__()\n",
    "\n",
    "        self.layers = nn.ModuleList([\n",
    "            nn.Conv2d(3, 18, 5),\n",
    "            nn.Tanh(),\n",
    "            nn.AvgPool2d(2, 2),\n",
    "            nn.Tanh(),\n",
    "            nn.Conv2d(18, 54, 5),\n",
    "            nn.Tanh(),\n",
    "            nn.AvgPool2d(2, 2),\n",
    "            nn.Tanh(),\n",
    "            nn.Conv2d(54, 405, 5),\n",
    "            nn.Tanh(),\n",
    "            nn.Flatten(),\n",
    "            nn.Linear(405, 200),\n",
    "            nn.Tanh(),\n",
    "            nn.Linear(200, 10),\n",
    "        ])\n",
    "    \n",
    "    def reset_params(self):\n",
    "        for layer in self.layers:\n",
    "            if hasattr(layer, \"reset_parameters\"):\n",
    "                layer.reset_parameters()\n",
    "\n",
    "\n",
    "    def forward(self, x):\n",
    "        \n",
    "        for layer in self.layers:\n",
    "            x = layer(x)\n",
    "\n",
    "        return x\n"
   ]
  },
  {
   "cell_type": "code",
   "execution_count": 54,
   "id": "7b220f45",
   "metadata": {},
   "outputs": [
    {
     "data": {
      "text/plain": [
       "tensor([[-0.0380,  0.0447, -0.0558, -0.0374,  0.1025, -0.0849,  0.0661, -0.0897,\n",
       "          0.0355, -0.0012]], grad_fn=<AddmmBackward0>)"
      ]
     },
     "execution_count": 54,
     "metadata": {},
     "output_type": "execute_result"
    }
   ],
   "source": [
    "model = KindaLeNet()\n",
    "sample = cifar[0][0].unsqueeze(0)\n",
    "\n",
    "model(sample)"
   ]
  },
  {
   "cell_type": "code",
   "execution_count": 55,
   "id": "3ef57c33",
   "metadata": {},
   "outputs": [
    {
     "data": {
      "text/plain": [
       "==========================================================================================\n",
       "Layer (type:depth-idx)                   Output Shape              Param #\n",
       "==========================================================================================\n",
       "KindaLeNet                               [64, 10]                  --\n",
       "├─ModuleList: 1-1                        --                        --\n",
       "│    └─Conv2d: 2-1                       [64, 18, 28, 28]          1,368\n",
       "│    └─Tanh: 2-2                         [64, 18, 28, 28]          --\n",
       "│    └─AvgPool2d: 2-3                    [64, 18, 14, 14]          --\n",
       "│    └─Tanh: 2-4                         [64, 18, 14, 14]          --\n",
       "│    └─Conv2d: 2-5                       [64, 54, 10, 10]          24,354\n",
       "│    └─Tanh: 2-6                         [64, 54, 10, 10]          --\n",
       "│    └─AvgPool2d: 2-7                    [64, 54, 5, 5]            --\n",
       "│    └─Tanh: 2-8                         [64, 54, 5, 5]            --\n",
       "│    └─Conv2d: 2-9                       [64, 405, 1, 1]           547,155\n",
       "│    └─Tanh: 2-10                        [64, 405, 1, 1]           --\n",
       "│    └─Flatten: 2-11                     [64, 405]                 --\n",
       "│    └─Linear: 2-12                      [64, 200]                 81,200\n",
       "│    └─Tanh: 2-13                        [64, 200]                 --\n",
       "│    └─Linear: 2-14                      [64, 10]                  2,010\n",
       "==========================================================================================\n",
       "Total params: 656,087\n",
       "Trainable params: 656,087\n",
       "Non-trainable params: 0\n",
       "Total mult-adds (Units.MEGABYTES): 264.85\n",
       "==========================================================================================\n",
       "Input size (MB): 0.79\n",
       "Forward/backward pass size (MB): 10.31\n",
       "Params size (MB): 2.62\n",
       "Estimated Total Size (MB): 13.72\n",
       "=========================================================================================="
      ]
     },
     "execution_count": 55,
     "metadata": {},
     "output_type": "execute_result"
    }
   ],
   "source": [
    "summary(model, input_size=(64, 3, 32, 32))"
   ]
  },
  {
   "cell_type": "markdown",
   "id": "b3a85543",
   "metadata": {},
   "source": [
    "#  1. As is in RAM\n",
    "\n",
    "- навчіть 10 епох нейромережі-класифікатора \n",
    "- скільки сумарно часу витрачено?"
   ]
  },
  {
   "cell_type": "code",
   "execution_count": 79,
   "id": "53569125",
   "metadata": {},
   "outputs": [],
   "source": [
    "batch_size = 256 \n",
    "n_epochs = 15 \n",
    "dataloader = DataLoader(cifar, batch_size=batch_size, shuffle=True)"
   ]
  },
  {
   "cell_type": "code",
   "execution_count": 80,
   "id": "3065be4f",
   "metadata": {},
   "outputs": [],
   "source": [
    "torch.manual_seed(42)\n",
    "model.reset_params()\n",
    "model = model.to(device)"
   ]
  },
  {
   "cell_type": "code",
   "execution_count": 81,
   "id": "f53f3862",
   "metadata": {},
   "outputs": [
    {
     "name": "stderr",
     "output_type": "stream",
     "text": [
      "100%|██████████| 2940/2940 [01:24<00:00, 34.99it/s]\n"
     ]
    }
   ],
   "source": [
    "loss_fn = nn.CrossEntropyLoss()\n",
    "optimizer = torch.optim.AdamW(model.parameters(), lr=5e-3)\n",
    "\n",
    "\n",
    "loss_history = []\n",
    "loss_epoch = []\n",
    "epoch_size = len(dataloader)\n",
    "data_iterator = iter(dataloader)\n",
    "\n",
    "for it in tqdm(range(epoch_size * n_epochs)):\n",
    "    try:\n",
    "        inputs, labels = next(data_iterator) \n",
    "    except StopIteration:\n",
    "        data_iterator = iter(dataloader)\n",
    "        inputs, labels = next(data_iterator) \n",
    "\n",
    "    inputs = inputs.to(device)\n",
    "    labels = labels.to(device)\n",
    "\n",
    "    optimizer.zero_grad()\n",
    "\n",
    "    out = model(inputs)\n",
    "    loss = loss_fn(out, labels)\n",
    "\n",
    "    loss_history.append(loss.item())\n",
    "\n",
    "    loss.backward()\n",
    "    optimizer.step()\n",
    "\n",
    "    if it % epoch_size == 0:\n",
    "        loss_epoch.append(np.mean(loss_history[-epoch_size:]))"
   ]
  },
  {
   "cell_type": "code",
   "execution_count": 82,
   "id": "4ca07f5e",
   "metadata": {},
   "outputs": [
    {
     "data": {
      "image/png": "[encoded data removed]",
      "text/plain": [
       "<Figure size 640x480 with 1 Axes>"
      ]
     },
     "metadata": {},
     "output_type": "display_data"
    }
   ],
   "source": [
    "plt.plot(loss_history, linewidth=0.4)\n",
    "plt.plot(np.arange(n_epochs) * epoch_size, loss_epoch, \"-o\")\n",
    "plt.show()"
   ]
  },
  {
   "cell_type": "markdown",
   "id": "2727e138",
   "metadata": {},
   "source": [
    "# 2. Keras sequence\n",
    "keras.utils.Sequence - спеціальний клас-генератор для вибірки, який можна подавати на вхід мереді замість навчальних даних (бо він всередині їх містить). Важливою властивістю його є те - що він дозволяє ітерувати по навчальним даним і: змінювати, аугментувати, завантажувати \"на льоту\".\n",
    "\n",
    "Задача:\n",
    "- збрежіть всі картинки у теку на жорсткому диску. \n",
    "- Створіть клас на основі keras.utils.Sequence та використайте його як генератор вибірки\n",
    "- Цей новий клас прийматиме список шляхів до файлів\n",
    "- Всередині цього нового класу картинки мають завантажуватися під всередині методу __getitem__ лише для вказаного батчу\n",
    "\n",
    "Задачі по варіантам. Додайте аугментації:\n",
    "1. Корекція тону (випадково)\n",
    "2. Повороти на 90, 180, 270 градусів; \n",
    "3. додавайте нормальний шум з дисперсію 1 (якщо тон пікселів від 0 до 255), інакше - 0.001\n",
    "4. Зрізайте картинку випадково так, щоб залишилося 14 на 14 пікселів. Робіть ресайз до 28х28\n",
    "5. Відзеркалення зображень\n",
    "\n",
    "Links:\n",
    "- https://stanford.edu/~shervine/blog/keras-how-to-generate-data-on-the-fly"
   ]
  },
  {
   "cell_type": "code",
   "execution_count": 62,
   "id": "334367c3",
   "metadata": {},
   "outputs": [
    {
     "ename": "RuntimeError",
     "evalue": "",
     "output_type": "error",
     "traceback": [
      "\u001b[0;31m---------------------------------------------------------------------------\u001b[0m",
      "\u001b[0;31mRuntimeError\u001b[0m                              Traceback (most recent call last)",
      "Cell \u001b[0;32mIn[62], line 5\u001b[0m\n\u001b[1;32m      3\u001b[0m out \u001b[38;5;241m=\u001b[39m \u001b[38;5;28minput\u001b[39m(\u001b[38;5;124m\"\u001b[39m\u001b[38;5;124mStart conversion? \u001b[39m\u001b[38;5;124m\"\u001b[39m)\n\u001b[1;32m      4\u001b[0m \u001b[38;5;28;01mif\u001b[39;00m out \u001b[38;5;241m!=\u001b[39m \u001b[38;5;124m\"\u001b[39m\u001b[38;5;124myes\u001b[39m\u001b[38;5;124m\"\u001b[39m:\n\u001b[0;32m----> 5\u001b[0m     \u001b[38;5;28;01mraise\u001b[39;00m \u001b[38;5;167;01mRuntimeError\u001b[39;00m()\n\u001b[1;32m      7\u001b[0m \u001b[38;5;28;01mfrom\u001b[39;00m \u001b[38;5;21;01mcollections\u001b[39;00m \u001b[38;5;28;01mimport\u001b[39;00m defaultdict\n\u001b[1;32m      8\u001b[0m \u001b[38;5;28;01mimport\u001b[39;00m \u001b[38;5;21;01mos\u001b[39;00m\n",
      "\u001b[0;31mRuntimeError\u001b[0m: "
     ]
    }
   ],
   "source": [
    "# convert dataset format\n",
    "\n",
    "out = input(\"Start conversion? \")\n",
    "if out != \"yes\":\n",
    "    raise RuntimeError()\n",
    "\n",
    "from collections import defaultdict\n",
    "import os\n",
    "\n",
    "import torchvision.transforms.functional\n",
    "class_counter = defaultdict(int) \n",
    "\n",
    "# for c in cifar.classes:\n",
    "#     os.mkdir(f\"data/cifar10/cifar-10-converted/{c}\")\n",
    "\n",
    "for i in tqdm(range(len(cifar))):\n",
    "    item = cifar[i]\n",
    "    img_array, label = item\n",
    "    class_counter[label] += 1\n",
    "    img = torchvision.transforms.functional.to_pil_image(img_array)\n",
    "    \n",
    "    img.save(f\"data/cifar10/cifar-10-converted/{cifar.classes[label]}/{class_counter[label]}.png\", \"PNG\")"
   ]
  },
  {
   "cell_type": "code",
   "execution_count": 83,
   "id": "ae7f09d7",
   "metadata": {},
   "outputs": [],
   "source": [
    "class CIFARFolderDataset(Dataset):\n",
    "    def __init__(self, root_dir):\n",
    "        self.root_dir = root_dir\n",
    "        self.image_paths = []\n",
    "        self.labels = []\n",
    "        self.class_to_idx = {}\n",
    "\n",
    "        self.transforms = torchvision.transforms.Compose([\n",
    "            torchvision.transforms.ColorJitter(0.1, 0.1, 0.1),\n",
    "            torchvision.transforms.ToTensor()\n",
    "        ])\n",
    "\n",
    "        self._load_dataset()\n",
    "\n",
    "    def _load_dataset(self):\n",
    "        self.classes = sorted(os.listdir(self.root_dir)) \n",
    "        self.class_to_idx = {cls_name: idx for idx, cls_name in enumerate(self.classes)}\n",
    "\n",
    "        for cls_name in self.classes:\n",
    "            class_dir = os.path.join(self.root_dir, cls_name)\n",
    "            if not os.path.isdir(class_dir):\n",
    "                continue\n",
    "            for filename in os.listdir(class_dir):\n",
    "                file_path = os.path.join(class_dir, filename)\n",
    "                if file_path.endswith(('.png')):  \n",
    "                    self.image_paths.append(file_path)\n",
    "                    self.labels.append(self.class_to_idx[cls_name])\n",
    "\n",
    "    def __len__(self):\n",
    "        return len(self.image_paths)\n",
    "\n",
    "    def __getitem__(self, idx):\n",
    "        img_path = self.image_paths[idx]\n",
    "        label = self.labels[idx]\n",
    "\n",
    "        image = Image.open(img_path).convert(\"RGB\")\n",
    "        image = self.transforms(image) \n",
    "\n",
    "        return image, label\n"
   ]
  },
  {
   "cell_type": "code",
   "execution_count": 84,
   "id": "4d0f42ce",
   "metadata": {},
   "outputs": [],
   "source": [
    "cifar_converted = CIFARFolderDataset(\"data/cifar10/cifar-10-converted\")"
   ]
  },
  {
   "cell_type": "markdown",
   "id": "2c6d63a8",
   "metadata": {},
   "source": [
    "# 3. Read from folder\n",
    "Не завжди всі данні для навчання можливо вмістити у оперативну пам'ять. Для цього доводиться зберігати їх на жорсткому диску, та завантажувати по необхідності\n",
    "\n",
    "- Навчіть 10 ітерацій \n",
    "- скільки часу витрачено?\n",
    "\n",
    "Таким чином, вам потрібно буде більше часу на навчання, але великі об'ємі даних тепер - не є завадою\n",
    "\n",
    "\n",
    "\n",
    "Links:\n",
    "- https://stanford.edu/~shervine/blog/keras-how-to-generate-data-on-the-fly"
   ]
  },
  {
   "cell_type": "code",
   "execution_count": 85,
   "id": "1ce7a078",
   "metadata": {},
   "outputs": [],
   "source": [
    "batch_size = 256 \n",
    "n_epochs = 15 \n",
    "dataloader = DataLoader(cifar_converted, batch_size=batch_size, shuffle=True)"
   ]
  },
  {
   "cell_type": "code",
   "execution_count": 86,
   "id": "72646e8f",
   "metadata": {},
   "outputs": [],
   "source": [
    "torch.manual_seed(42)\n",
    "model.reset_params()\n",
    "model = model.to(device)"
   ]
  },
  {
   "cell_type": "code",
   "execution_count": 87,
   "id": "2383c923",
   "metadata": {},
   "outputs": [
    {
     "name": "stderr",
     "output_type": "stream",
     "text": [
      "100%|██████████| 2940/2940 [05:37<00:00,  8.71it/s]\n"
     ]
    }
   ],
   "source": [
    "loss_fn = nn.CrossEntropyLoss()\n",
    "optimizer = torch.optim.AdamW(model.parameters(), lr=5e-3)\n",
    "\n",
    "\n",
    "loss_history = []\n",
    "loss_epoch = []\n",
    "epoch_size = len(dataloader)\n",
    "data_iterator = iter(dataloader)\n",
    "\n",
    "for it in tqdm(range(epoch_size * n_epochs)):\n",
    "    try:\n",
    "        inputs, labels = next(data_iterator) \n",
    "    except StopIteration:\n",
    "        data_iterator = iter(dataloader)\n",
    "        inputs, labels = next(data_iterator) \n",
    "\n",
    "    inputs = inputs.to(device)\n",
    "    labels = labels.to(device)\n",
    "\n",
    "    optimizer.zero_grad()\n",
    "\n",
    "    out = model(inputs)\n",
    "    loss = loss_fn(out, labels)\n",
    "\n",
    "    loss_history.append(loss.item())\n",
    "\n",
    "    loss.backward()\n",
    "    optimizer.step()\n",
    "\n",
    "    if it % epoch_size == 0:\n",
    "        loss_epoch.append(np.mean(loss_history[-epoch_size:]))"
   ]
  },
  {
   "cell_type": "code",
   "execution_count": 88,
   "id": "b9fe9121",
   "metadata": {},
   "outputs": [
    {
     "data": {
      "image/png": "[encoded data removed]",
      "text/plain": [
       "<Figure size 640x480 with 1 Axes>"
      ]
     },
     "metadata": {},
     "output_type": "display_data"
    }
   ],
   "source": [
    "plt.plot(loss_history, linewidth=0.4)\n",
    "plt.plot(np.arange(n_epochs) * epoch_size, loss_epoch, \"-o\")\n",
    "plt.show()"
   ]
  },
  {
   "cell_type": "markdown",
   "id": "be3cc9c4",
   "metadata": {},
   "source": [
    "# 4. Tensorstore\n",
    "\n",
    "Дійсно, кожен раз завантажувати дані - то повільно. Зараз ми з вами збережемо їх послідовно на жорсткому диску, що дозволить нам значно швидше їх зчитувати. Для цього використаємо фреймворк Tensorstore. Робота з ним нагадуватиме роботу із numpy\n",
    "\n",
    "- Використайте tensorstore, творіть сховище (4-вимірний масив)\n",
    "- Покладіть картинки у сховище\n",
    "- Створіть ще один аналог keras.utils.Sequence, та зчитуйте картинки із вашого tensorstore\n",
    "- Навчіть модель, та поміряйте час\n",
    "\n",
    "Links:\n",
    "- https://google.github.io/tensorstore/python/tutorial.html"
   ]
  },
  {
   "cell_type": "code",
   "execution_count": null,
   "id": "59df2d52",
   "metadata": {},
   "outputs": [],
   "source": []
  },
  {
   "cell_type": "markdown",
   "id": "cd8a7bd3",
   "metadata": {},
   "source": [
    "# 5. Keras dataset loader\n",
    "\n",
    "В бібліотеці tensorstore є спеціальні методи для того, щоб читати дані із файлової системи 9та змінювати їх \"на льоту\".\n",
    "\n",
    "Завдання:\n",
    "- Використайте раніше збережені картинки у теці, та побудуйте data loader для них\n",
    "- Навчіть модель, та поміряйте час\n",
    "\n",
    "Links:\n",
    "- https://keras.io/api/data_loading/"
   ]
  },
  {
   "cell_type": "code",
   "execution_count": null,
   "id": "10617128",
   "metadata": {},
   "outputs": [],
   "source": []
  },
  {
   "cell_type": "markdown",
   "id": "fb7e8bda",
   "metadata": {},
   "source": [
    "# Висновки\n",
    "\n",
    "Напишіть висновки:\n",
    "- Який підхід був найзручніший?\n",
    "- Який підхід дав змогу навчати модельі швидше?"
   ]
  },
  {
   "cell_type": "code",
   "execution_count": null,
   "id": "5941d7f7",
   "metadata": {},
   "outputs": [],
   "source": []
  },
  {
   "cell_type": "code",
   "execution_count": null,
   "id": "120cab6f",
   "metadata": {},
   "outputs": [],
   "source": []
  }
 ],
 "metadata": {
  "kernelspec": {
   "display_name": ".venv",
   "language": "python",
   "name": "python3"
  },
  "language_info": {
   "codemirror_mode": {
    "name": "ipython",
    "version": 3
   },
   "file_extension": ".py",
   "mimetype": "text/x-python",
   "name": "python",
   "nbconvert_exporter": "python",
   "pygments_lexer": "ipython3",
   "version": "3.11.9"
  }
 },
 "nbformat": 4,
 "nbformat_minor": 5
}
