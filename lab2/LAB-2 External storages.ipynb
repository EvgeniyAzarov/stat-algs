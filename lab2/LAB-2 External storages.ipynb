{
 "cells": [
  {
   "cell_type": "code",
   "execution_count": 46,
   "id": "cdf814d4",
   "metadata": {},
   "outputs": [
    {
     "name": "stdout",
     "output_type": "stream",
     "text": [
      "env: CUDA_VISIBLE_DEVICES=6\n"
     ]
    }
   ],
   "source": [
    "%env CUDA_VISIBLE_DEVICES=6"
   ]
  },
  {
   "cell_type": "code",
   "execution_count": 47,
   "id": "2bad758e",
   "metadata": {},
   "outputs": [],
   "source": [
    "import numpy as np\n",
    "from matplotlib import pyplot as plt\n",
    "from tqdm.auto import tqdm\n",
    "# import tensorflow\n",
    "# from tensorflow import keras\n",
    "# from tensorflow.keras import layers"
   ]
  },
  {
   "cell_type": "code",
   "execution_count": 48,
   "id": "e19a0b96",
   "metadata": {},
   "outputs": [],
   "source": [
    "from PIL import Image\n",
    "import torch\n",
    "import torch.nn as nn\n",
    "import torchvision\n",
    "\n",
    "from torch.utils.data import DataLoader, Dataset\n",
    "from torchvision.datasets import ImageFolder\n",
    "from torchinfo import summary"
   ]
  },
  {
   "cell_type": "code",
   "execution_count": 49,
   "id": "af9f4672",
   "metadata": {},
   "outputs": [],
   "source": [
    "SEED = 42\n",
    "torch.manual_seed(SEED)\n",
    "np.random.seed(SEED)"
   ]
  },
  {
   "cell_type": "code",
   "execution_count": 50,
   "id": "bc04e7d9",
   "metadata": {},
   "outputs": [
    {
     "data": {
      "text/plain": [
       "'cuda'"
      ]
     },
     "execution_count": 50,
     "metadata": {},
     "output_type": "execute_result"
    }
   ],
   "source": [
    "device = \"cuda\" if torch.cuda.is_available() else \"cpu\"\n",
    "device"
   ]
  },
  {
   "cell_type": "markdown",
   "id": "b8a78d57",
   "metadata": {},
   "source": [
    "# 0. Підготовка\n",
    "\n",
    "Варіанти даних:\n",
    "1. https://keras.io/2.16/api/datasets/cifar10/\n",
    "2. https://keras.io/2.16/api/datasets/fashion_mnist/\n",
    "3. https://keras.io/2.16/api/datasets/mnist/\n",
    "\n",
    "Задачі:\n",
    "- Завантажте вибірку із keras\n",
    "- Зберіть архітекуру для 10-ти класової класифікації\n",
    "- Протестуйте що вона працює, викликавши функцію predict\n",
    "- Модель навчатимите в інших частинах роботи!!!\n",
    "\n",
    "Варіанти архітектур нейромереж:\n",
    "1. Lenet\n",
    "2. Alexnet\n",
    "\n",
    "Links:\n",
    "- https://keras.io/api/datasets/mnist/"
   ]
  },
  {
   "cell_type": "code",
   "execution_count": 51,
   "id": "ee178341",
   "metadata": {},
   "outputs": [
    {
     "name": "stdout",
     "output_type": "stream",
     "text": [
      "Files already downloaded and verified\n"
     ]
    }
   ],
   "source": [
    "cifar = torchvision.datasets.CIFAR10(\n",
    "    root=\"./data/cifar10\", \n",
    "    download=True,\n",
    "    transform=torchvision.transforms.ToTensor()\n",
    ")"
   ]
  },
  {
   "cell_type": "code",
   "execution_count": 52,
   "id": "b4ccabe5",
   "metadata": {},
   "outputs": [
    {
     "data": {
      "image/png": "[encoded data removed]",
      "text/plain": [
       "<Figure size 640x480 with 1 Axes>"
      ]
     },
     "metadata": {},
     "output_type": "display_data"
    }
   ],
   "source": [
    "img = cifar[128][0].permute(1, 2, 0)\n",
    "plt.imshow(img)\n",
    "plt.show()"
   ]
  },
  {
   "cell_type": "code",
   "execution_count": 53,
   "id": "d811a3b4",
   "metadata": {},
   "outputs": [],
   "source": [
    "class KindaLeNet(nn.Module):\n",
    "    def __init__(self):\n",
    "        super().__init__()\n",
    "\n",
    "        self.layers = nn.ModuleList([\n",
    "            nn.Conv2d(3, 18, 5),\n",
    "            nn.Tanh(),\n",
    "            nn.AvgPool2d(2, 2),\n",
    "            nn.Tanh(),\n",
    "            nn.Conv2d(18, 54, 5),\n",
    "            nn.Tanh(),\n",
    "            nn.AvgPool2d(2, 2),\n",
    "            nn.Tanh(),\n",
    "            nn.Conv2d(54, 405, 5),\n",
    "            nn.Tanh(),\n",
    "            nn.Flatten(),\n",
    "            nn.Linear(405, 200),\n",
    "            nn.Tanh(),\n",
    "            nn.Linear(200, 10),\n",
    "        ])\n",
    "    \n",
    "    def reset_params(self):\n",
    "        for layer in self.layers:\n",
    "            if hasattr(layer, \"reset_parameters\"):\n",
    "                layer.reset_parameters()\n",
    "\n",
    "\n",
    "    def forward(self, x):\n",
    "        \n",
    "        for layer in self.layers:\n",
    "            x = layer(x)\n",
    "\n",
    "        return x\n"
   ]
  },
  {
   "cell_type": "code",
   "execution_count": 54,
   "id": "7b220f45",
   "metadata": {},
   "outputs": [
    {
     "data": {
      "text/plain": [
       "tensor([[-0.0380,  0.0447, -0.0558, -0.0374,  0.1025, -0.0849,  0.0661, -0.0897,\n",
       "          0.0355, -0.0012]], grad_fn=<AddmmBackward0>)"
      ]
     },
     "execution_count": 54,
     "metadata": {},
     "output_type": "execute_result"
    }
   ],
   "source": [
    "model = KindaLeNet()\n",
    "sample = cifar[0][0].unsqueeze(0)\n",
    "\n",
    "model(sample)"
   ]
  },
  {
   "cell_type": "code",
   "execution_count": 55,
   "id": "3ef57c33",
   "metadata": {},
   "outputs": [
    {
     "data": {
      "text/plain": [
       "==========================================================================================\n",
       "Layer (type:depth-idx)                   Output Shape              Param #\n",
       "==========================================================================================\n",
       "KindaLeNet                               [64, 10]                  --\n",
       "├─ModuleList: 1-1                        --                        --\n",
       "│    └─Conv2d: 2-1                       [64, 18, 28, 28]          1,368\n",
       "│    └─Tanh: 2-2                         [64, 18, 28, 28]          --\n",
       "│    └─AvgPool2d: 2-3                    [64, 18, 14, 14]          --\n",
       "│    └─Tanh: 2-4                         [64, 18, 14, 14]          --\n",
       "│    └─Conv2d: 2-5                       [64, 54, 10, 10]          24,354\n",
       "│    └─Tanh: 2-6                         [64, 54, 10, 10]          --\n",
       "│    └─AvgPool2d: 2-7                    [64, 54, 5, 5]            --\n",
       "│    └─Tanh: 2-8                         [64, 54, 5, 5]            --\n",
       "│    └─Conv2d: 2-9                       [64, 405, 1, 1]           547,155\n",
       "│    └─Tanh: 2-10                        [64, 405, 1, 1]           --\n",
       "│    └─Flatten: 2-11                     [64, 405]                 --\n",
       "│    └─Linear: 2-12                      [64, 200]                 81,200\n",
       "│    └─Tanh: 2-13                        [64, 200]                 --\n",
       "│    └─Linear: 2-14                      [64, 10]                  2,010\n",
       "==========================================================================================\n",
       "Total params: 656,087\n",
       "Trainable params: 656,087\n",
       "Non-trainable params: 0\n",
       "Total mult-adds (Units.MEGABYTES): 264.85\n",
       "==========================================================================================\n",
       "Input size (MB): 0.79\n",
       "Forward/backward pass size (MB): 10.31\n",
       "Params size (MB): 2.62\n",
       "Estimated Total Size (MB): 13.72\n",
       "=========================================================================================="
      ]
     },
     "execution_count": 55,
     "metadata": {},
     "output_type": "execute_result"
    }
   ],
   "source": [
    "summary(model, input_size=(64, 3, 32, 32))"
   ]
  },
  {
   "cell_type": "markdown",
   "id": "b3a85543",
   "metadata": {},
   "source": [
    "#  1. As is in RAM\n",
    "\n",
    "- навчіть 10 епох нейромережі-класифікатора \n",
    "- скільки сумарно часу витрачено?"
   ]
  },
  {
   "cell_type": "code",
   "execution_count": 79,
   "id": "53569125",
   "metadata": {},
   "outputs": [],
   "source": [
    "batch_size = 256 \n",
    "n_epochs = 15 \n",
    "dataloader = DataLoader(cifar, batch_size=batch_size, shuffle=True)"
   ]
  },
  {
   "cell_type": "code",
   "execution_count": 80,
   "id": "3065be4f",
   "metadata": {},
   "outputs": [],
   "source": [
    "torch.manual_seed(42)\n",
    "model.reset_params()\n",
    "model = model.to(device)"
   ]
  },
  {
   "cell_type": "code",
   "execution_count": 81,
   "id": "f53f3862",
   "metadata": {},
   "outputs": [
    {
     "name": "stderr",
     "output_type": "stream",
     "text": [
      "100%|██████████| 2940/2940 [01:24<00:00, 34.99it/s]\n"
     ]
    }
   ],
   "source": [
    "loss_fn = nn.CrossEntropyLoss()\n",
    "optimizer = torch.optim.AdamW(model.parameters(), lr=5e-3)\n",
    "\n",
    "\n",
    "loss_history = []\n",
    "loss_epoch = []\n",
    "epoch_size = len(dataloader)\n",
    "data_iterator = iter(dataloader)\n",
    "\n",
    "for it in tqdm(range(epoch_size * n_epochs)):\n",
    "    try:\n",
    "        inputs, labels = next(data_iterator) \n",
    "    except StopIteration:\n",
    "        data_iterator = iter(dataloader)\n",
    "        inputs, labels = next(data_iterator) \n",
    "\n",
    "    inputs = inputs.to(device)\n",
    "    labels = labels.to(device)\n",
    "\n",
    "    optimizer.zero_grad()\n",
    "\n",
    "    out = model(inputs)\n",
    "    loss = loss_fn(out, labels)\n",
    "\n",
    "    loss_history.append(loss.item())\n",
    "\n",
    "    loss.backward()\n",
    "    optimizer.step()\n",
    "\n",
    "    if it % epoch_size == 0:\n",
    "        loss_epoch.append(np.mean(loss_history[-epoch_size:]))"
   ]
  },
  {
   "cell_type": "code",
   "execution_count": 82,
   "id": "4ca07f5e",
   "metadata": {},
   "outputs": [
    {
     "data": {
      "image/png": "[encoded data removed]",
      "text/plain": [
       "<Figure size 640x480 with 1 Axes>"
      ]
     },
     "metadata": {},
     "output_type": "display_data"
    }
   ],
   "source": [
    "plt.plot(loss_history, linewidth=0.4)\n",
    "plt.plot(np.arange(n_epochs) * epoch_size, loss_epoch, \"-o\")\n",
    "plt.show()"
   ]
  },
  {
   "cell_type": "markdown",
   "id": "2727e138",
   "metadata": {},
   "source": [
    "# 2. Keras sequence\n",
    "keras.utils.Sequence - спеціальний клас-генератор для вибірки, який можна подавати на вхід мереді замість навчальних даних (бо він всередині їх містить). Важливою властивістю його є те - що він дозволяє ітерувати по навчальним даним і: змінювати, аугментувати, завантажувати \"на льоту\".\n",
    "\n",
    "Задача:\n",
    "- збрежіть всі картинки у теку на жорсткому диску. \n",
    "- Створіть клас на основі keras.utils.Sequence та використайте його як генератор вибірки\n",
    "- Цей новий клас прийматиме список шляхів до файлів\n",
    "- Всередині цього нового класу картинки мають завантажуватися під всередині методу __getitem__ лише для вказаного батчу\n",
    "\n",
    "Задачі по варіантам. Додайте аугментації:\n",
    "1. Корекція тону (випадково)\n",
    "2. Повороти на 90, 180, 270 градусів; \n",
    "3. додавайте нормальний шум з дисперсію 1 (якщо тон пікселів від 0 до 255), інакше - 0.001\n",
    "4. Зрізайте картинку випадково так, щоб залишилося 14 на 14 пікселів. Робіть ресайз до 28х28\n",
    "5. Відзеркалення зображень\n",
    "\n",
    "Links:\n",
    "- https://stanford.edu/~shervine/blog/keras-how-to-generate-data-on-the-fly"
   ]
  },
  {
   "cell_type": "code",
   "execution_count": 62,
   "id": "334367c3",
   "metadata": {},
   "outputs": [
    {
     "ename": "RuntimeError",
     "evalue": "",
     "output_type": "error",
     "traceback": [
      "\u001b[0;31m---------------------------------------------------------------------------\u001b[0m",
      "\u001b[0;31mRuntimeError\u001b[0m                              Traceback (most recent call last)",
      "Cell \u001b[0;32mIn[62], line 5\u001b[0m\n\u001b[1;32m      3\u001b[0m out \u001b[38;5;241m=\u001b[39m \u001b[38;5;28minput\u001b[39m(\u001b[38;5;124m\"\u001b[39m\u001b[38;5;124mStart conversion? \u001b[39m\u001b[38;5;124m\"\u001b[39m)\n\u001b[1;32m      4\u001b[0m \u001b[38;5;28;01mif\u001b[39;00m out \u001b[38;5;241m!=\u001b[39m \u001b[38;5;124m\"\u001b[39m\u001b[38;5;124myes\u001b[39m\u001b[38;5;124m\"\u001b[39m:\n\u001b[0;32m----> 5\u001b[0m     \u001b[38;5;28;01mraise\u001b[39;00m \u001b[38;5;167;01mRuntimeError\u001b[39;00m()\n\u001b[1;32m      7\u001b[0m \u001b[38;5;28;01mfrom\u001b[39;00m \u001b[38;5;21;01mcollections\u001b[39;00m \u001b[38;5;28;01mimport\u001b[39;00m defaultdict\n\u001b[1;32m      8\u001b[0m \u001b[38;5;28;01mimport\u001b[39;00m \u001b[38;5;21;01mos\u001b[39;00m\n",
      "\u001b[0;31mRuntimeError\u001b[0m: "
     ]
    }
   ],
   "source": [
    "# convert dataset format\n",
    "\n",
    "out = input(\"Start conversion? \")\n",
    "if out != \"yes\":\n",
    "    raise RuntimeError()\n",
    "\n",
    "from collections import defaultdict\n",
    "import os\n",
    "\n",
    "import torchvision.transforms.functional\n",
    "class_counter = defaultdict(int) \n",
    "\n",
    "# for c in cifar.classes:\n",
    "#     os.mkdir(f\"data/cifar10/cifar-10-converted/{c}\")\n",
    "\n",
    "for i in tqdm(range(len(cifar))):\n",
    "    item = cifar[i]\n",
    "    img_array, label = item\n",
    "    class_counter[label] += 1\n",
    "    img = torchvision.transforms.functional.to_pil_image(img_array)\n",
    "    \n",
    "    img.save(f\"data/cifar10/cifar-10-converted/{cifar.classes[label]}/{class_counter[label]}.png\", \"PNG\")"
   ]
  },
  {
   "cell_type": "code",
   "execution_count": 83,
   "id": "ae7f09d7",
   "metadata": {},
   "outputs": [],
   "source": [
    "class CIFARFolderDataset(Dataset):\n",
    "    def __init__(self, root_dir):\n",
    "        self.root_dir = root_dir\n",
    "        self.image_paths = []\n",
    "        self.labels = []\n",
    "        self.class_to_idx = {}\n",
    "\n",
    "        self.transforms = torchvision.transforms.Compose([\n",
    "            torchvision.transforms.ColorJitter(0.1, 0.1, 0.1),\n",
    "            torchvision.transforms.ToTensor()\n",
    "        ])\n",
    "\n",
    "        self._load_dataset()\n",
    "\n",
    "    def _load_dataset(self):\n",
    "        self.classes = sorted(os.listdir(self.root_dir)) \n",
    "        self.class_to_idx = {cls_name: idx for idx, cls_name in enumerate(self.classes)}\n",
    "\n",
    "        for cls_name in self.classes:\n",
    "            class_dir = os.path.join(self.root_dir, cls_name)\n",
    "            if not os.path.isdir(class_dir):\n",
    "                continue\n",
    "            for filename in os.listdir(class_dir):\n",
    "                file_path = os.path.join(class_dir, filename)\n",
    "                if file_path.endswith(('.png')):  \n",
    "                    self.image_paths.append(file_path)\n",
    "                    self.labels.append(self.class_to_idx[cls_name])\n",
    "\n",
    "    def __len__(self):\n",
    "        return len(self.image_paths)\n",
    "\n",
    "    def __getitem__(self, idx):\n",
    "        img_path = self.image_paths[idx]\n",
    "        label = self.labels[idx]\n",
    "\n",
    "        image = Image.open(img_path).convert(\"RGB\")\n",
    "        image = self.transforms(image) \n",
    "\n",
    "        return image, label\n"
   ]
  },
  {
   "cell_type": "code",
   "execution_count": 84,
   "id": "4d0f42ce",
   "metadata": {},
   "outputs": [],
   "source": [
    "cifar_converted = CIFARFolderDataset(\"data/cifar10/cifar-10-converted\")"
   ]
  },
  {
   "cell_type": "markdown",
   "id": "2c6d63a8",
   "metadata": {},
   "source": [
    "# 3. Read from folder\n",
    "Не завжди всі данні для навчання можливо вмістити у оперативну пам'ять. Для цього доводиться зберігати їх на жорсткому диску, та завантажувати по необхідності\n",
    "\n",
    "- Навчіть 10 ітерацій \n",
    "- скільки часу витрачено?\n",
    "\n",
    "Таким чином, вам потрібно буде більше часу на навчання, але великі об'ємі даних тепер - не є завадою\n",
    "\n",
    "\n",
    "\n",
    "Links:\n",
    "- https://stanford.edu/~shervine/blog/keras-how-to-generate-data-on-the-fly"
   ]
  },
  {
   "cell_type": "code",
   "execution_count": 85,
   "id": "1ce7a078",
   "metadata": {},
   "outputs": [],
   "source": [
    "batch_size = 256 \n",
    "n_epochs = 15 \n",
    "dataloader = DataLoader(cifar_converted, batch_size=batch_size, shuffle=True)"
   ]
  },
  {
   "cell_type": "code",
   "execution_count": 86,
   "id": "72646e8f",
   "metadata": {},
   "outputs": [],
   "source": [
    "torch.manual_seed(42)\n",
    "model.reset_params()\n",
    "model = model.to(device)"
   ]
  },
  {
   "cell_type": "code",
   "execution_count": 87,
   "id": "2383c923",
   "metadata": {},
   "outputs": [
    {
     "name": "stderr",
     "output_type": "stream",
     "text": [
      "100%|██████████| 2940/2940 [05:37<00:00,  8.71it/s]\n"
     ]
    }
   ],
   "source": [
    "loss_fn = nn.CrossEntropyLoss()\n",
    "optimizer = torch.optim.AdamW(model.parameters(), lr=5e-3)\n",
    "\n",
    "\n",
    "loss_history = []\n",
    "loss_epoch = []\n",
    "epoch_size = len(dataloader)\n",
    "data_iterator = iter(dataloader)\n",
    "\n",
    "for it in tqdm(range(epoch_size * n_epochs)):\n",
    "    try:\n",
    "        inputs, labels = next(data_iterator) \n",
    "    except StopIteration:\n",
    "        data_iterator = iter(dataloader)\n",
    "        inputs, labels = next(data_iterator) \n",
    "\n",
    "    inputs = inputs.to(device)\n",
    "    labels = labels.to(device)\n",
    "\n",
    "    optimizer.zero_grad()\n",
    "\n",
    "    out = model(inputs)\n",
    "    loss = loss_fn(out, labels)\n",
    "\n",
    "    loss_history.append(loss.item())\n",
    "\n",
    "    loss.backward()\n",
    "    optimizer.step()\n",
    "\n",
    "    if it % epoch_size == 0:\n",
    "        loss_epoch.append(np.mean(loss_history[-epoch_size:]))"
   ]
  },
  {
   "cell_type": "code",
   "execution_count": 88,
   "id": "b9fe9121",
   "metadata": {},
   "outputs": [
    {
     "data": {
      "image/png": "[encoded data removed]",
      "text/plain": [
       "<Figure size 640x480 with 1 Axes>"
      ]
     },
     "metadata": {},
     "output_type": "display_data"
    }
   ],
   "source": [
    "plt.plot(loss_history, linewidth=0.4)\n",
    "plt.plot(np.arange(n_epochs) * epoch_size, loss_epoch, \"-o\")\n",
    "plt.show()"
   ]
  },
  {
   "cell_type": "markdown",
   "id": "be3cc9c4",
   "metadata": {},
   "source": [
    "# 4. Tensorstore\n",
    "\n",
    "Дійсно, кожен раз завантажувати дані - то повільно. Зараз ми з вами збережемо їх послідовно на жорсткому диску, що дозволить нам значно швидше їх зчитувати. Для цього використаємо фреймворк Tensorstore. Робота з ним нагадуватиме роботу із numpy\n",
    "\n",
    "- Використайте tensorstore, творіть сховище (4-вимірний масив)\n",
    "- Покладіть картинки у сховище\n",
    "- Створіть ще один аналог keras.utils.Sequence, та зчитуйте картинки із вашого tensorstore\n",
    "- Навчіть модель, та поміряйте час\n",
    "\n",
    "Links:\n",
    "- https://google.github.io/tensorstore/python/tutorial.html"
   ]
  },
  {
   "cell_type": "code",
   "execution_count": 137,
   "id": "59df2d52",
   "metadata": {},
   "outputs": [],
   "source": [
    "import tensorstore as ts\n",
    "\n",
    "root_dir, storage_path = \"data/cifar10/cifar-10-converted\", \"data/cifar10/cifar-10-ts\"\n",
    "image_paths = []\n",
    "labels = []\n",
    "classes = sorted(os.listdir(root_dir))\n",
    "class_to_idx = {cls_name: idx for idx, cls_name in enumerate(classes)}\n",
    "\n",
    "for cls_name in classes:\n",
    "    class_dir = os.path.join(root_dir, cls_name)\n",
    "    if not os.path.isdir(class_dir):\n",
    "        continue\n",
    "    for filename in os.listdir(class_dir):\n",
    "        file_path = os.path.join(class_dir, filename)\n",
    "        if file_path.endswith('.png'):\n",
    "            image_paths.append(file_path)\n",
    "            labels.append(class_to_idx[cls_name])\n",
    "\n",
    "images = [np.array(Image.open(img).convert(\"RGB\")) for img in image_paths]\n",
    "images = np.stack(images).astype(\"uint8\")  # (N, H, W, C)\n",
    "labels = np.array(labels)  # (N,)\n",
    "\n",
    "storage = ts.open({\n",
    "    'driver': 'zarr',\n",
    "    'kvstore': {'driver': 'file', 'path': storage_path},\n",
    "    'metadata': {\n",
    "        'dtype': '|u1',\n",
    "        'shape': images.shape,\n",
    "        'chunks': [1000, 32, 32, 3],\n",
    "        # 'order': 'C',\n",
    "    },\n",
    "    'create': True,\n",
    "    'delete_existing': True\n",
    "}).result()\n",
    "storage[...] = images"
   ]
  },
  {
   "cell_type": "code",
   "execution_count": 152,
   "id": "479b206b",
   "metadata": {},
   "outputs": [],
   "source": [
    "class CIFARTensorStoreDataset(Dataset):\n",
    "    def __init__(self, image_ts, labels):\n",
    "        self.image_ts = image_ts\n",
    "        self.label_ts = labels\n",
    "\n",
    "        self.transforms = torchvision.transforms.Compose([\n",
    "            torchvision.transforms.ColorJitter(0.1, 0.1, 0.1),\n",
    "            torchvision.transforms.ToTensor()\n",
    "        ])\n",
    "\n",
    "    def __len__(self):\n",
    "        return self.image_ts.shape[0]\n",
    "\n",
    "    def __getitem__(self, idx):\n",
    "        image = np.array(self.image_ts[idx])\n",
    "        label = int(self.label_ts[idx])\n",
    "\n",
    "        image = Image.fromarray(image)  \n",
    "        image = self.transforms(image)  \n",
    "\n",
    "        return image, label"
   ]
  },
  {
   "cell_type": "code",
   "execution_count": 153,
   "id": "8954136b",
   "metadata": {},
   "outputs": [],
   "source": [
    "cifar10ts = CIFARTensorStoreDataset(storage, labels)"
   ]
  },
  {
   "cell_type": "code",
   "execution_count": 154,
   "id": "f1f6914c",
   "metadata": {},
   "outputs": [],
   "source": [
    "batch_size = 256 \n",
    "n_epochs = 15 \n",
    "dataloader = DataLoader(cifar10ts, batch_size=batch_size, shuffle=True)"
   ]
  },
  {
   "cell_type": "code",
   "execution_count": 155,
   "id": "8b1c2781",
   "metadata": {},
   "outputs": [
    {
     "data": {
      "text/plain": [
       "[tensor([[[[0.3922, 0.4314, 0.5098,  ..., 1.0000, 1.0000, 1.0000],\n",
       "           [0.3490, 0.4078, 0.5373,  ..., 1.0000, 1.0000, 1.0000],\n",
       "           [0.3059, 0.3098, 0.3647,  ..., 1.0000, 1.0000, 1.0000],\n",
       "           ...,\n",
       "           [0.1529, 0.1333, 0.1569,  ..., 0.3137, 0.3373, 0.3647],\n",
       "           [0.0784, 0.0627, 0.1098,  ..., 0.2196, 0.3333, 0.3725],\n",
       "           [0.0941, 0.0980, 0.1216,  ..., 0.2353, 0.3333, 0.3882]],\n",
       " \n",
       "          [[0.3804, 0.4196, 0.4941,  ..., 1.0000, 1.0000, 1.0000],\n",
       "           [0.3333, 0.3922, 0.5216,  ..., 1.0000, 1.0000, 1.0000],\n",
       "           [0.2941, 0.2980, 0.3529,  ..., 1.0000, 1.0000, 1.0000],\n",
       "           ...,\n",
       "           [0.1373, 0.1569, 0.1412,  ..., 0.2784, 0.3020, 0.3216],\n",
       "           [0.0627, 0.0745, 0.0784,  ..., 0.1765, 0.2824, 0.3216],\n",
       "           [0.0824, 0.0980, 0.0824,  ..., 0.1804, 0.2784, 0.3333]],\n",
       " \n",
       "          [[0.3686, 0.4039, 0.4824,  ..., 1.0000, 1.0000, 1.0000],\n",
       "           [0.3294, 0.3882, 0.5176,  ..., 1.0000, 1.0000, 1.0000],\n",
       "           [0.2980, 0.3020, 0.3569,  ..., 1.0000, 1.0000, 1.0000],\n",
       "           ...,\n",
       "           [0.1451, 0.1451, 0.1294,  ..., 0.2353, 0.2706, 0.2980],\n",
       "           [0.0706, 0.0667, 0.0706,  ..., 0.1569, 0.2784, 0.3098],\n",
       "           [0.0863, 0.0902, 0.0784,  ..., 0.1804, 0.2784, 0.3216]]],\n",
       " \n",
       " \n",
       "         [[[0.6745, 0.5451, 0.5098,  ..., 0.3333, 0.4941, 0.4549],\n",
       "           [0.5176, 0.3922, 0.5137,  ..., 0.3686, 0.5490, 0.5725],\n",
       "           [0.3529, 0.3490, 0.5412,  ..., 0.4706, 0.6118, 0.7020],\n",
       "           ...,\n",
       "           [0.7020, 0.7373, 0.7137,  ..., 0.7373, 0.7412, 0.7922],\n",
       "           [0.7137, 0.7490, 0.7569,  ..., 0.7294, 0.7529, 0.7765],\n",
       "           [0.6667, 0.6745, 0.6941,  ..., 0.7490, 0.7333, 0.7490]],\n",
       " \n",
       "          [[0.5647, 0.4353, 0.4157,  ..., 0.3333, 0.4980, 0.4510],\n",
       "           [0.4235, 0.3020, 0.4353,  ..., 0.3569, 0.5333, 0.5451],\n",
       "           [0.2745, 0.2863, 0.4902,  ..., 0.4118, 0.5490, 0.6196],\n",
       "           ...,\n",
       "           [0.5569, 0.5961, 0.5725,  ..., 0.5922, 0.5882, 0.6353],\n",
       "           [0.5725, 0.6039, 0.6157,  ..., 0.5922, 0.6157, 0.6392],\n",
       "           [0.5098, 0.5176, 0.5451,  ..., 0.6157, 0.6157, 0.6353]],\n",
       " \n",
       "          [[0.5020, 0.3608, 0.3294,  ..., 0.3020, 0.4392, 0.3843],\n",
       "           [0.3843, 0.2431, 0.3686,  ..., 0.3216, 0.4784, 0.4784],\n",
       "           [0.2471, 0.2392, 0.4314,  ..., 0.3882, 0.5059, 0.5725],\n",
       "           ...,\n",
       "           [0.5569, 0.6039, 0.5843,  ..., 0.5922, 0.5922, 0.6392],\n",
       "           [0.5843, 0.6196, 0.6314,  ..., 0.5961, 0.6157, 0.6431],\n",
       "           [0.5373, 0.5412, 0.5569,  ..., 0.6196, 0.6157, 0.6392]]],\n",
       " \n",
       " \n",
       "         [[[0.6235, 0.7216, 0.7882,  ..., 0.9176, 0.9333, 0.9255],\n",
       "           [0.6510, 0.7490, 0.8118,  ..., 0.9451, 0.9529, 0.9490],\n",
       "           [0.6588, 0.7529, 0.8039,  ..., 0.9412, 0.9451, 0.9451],\n",
       "           ...,\n",
       "           [0.8235, 0.8275, 0.8353,  ..., 0.9451, 0.9961, 1.0000],\n",
       "           [0.8275, 0.8314, 0.8392,  ..., 0.9647, 1.0000, 1.0000],\n",
       "           [0.8118, 0.8118, 0.8196,  ..., 0.9490, 0.9686, 0.9765]],\n",
       " \n",
       "          [[0.6235, 0.7216, 0.7804,  ..., 0.8549, 0.8706, 0.8745],\n",
       "           [0.6510, 0.7490, 0.8000,  ..., 0.8824, 0.8902, 0.8941],\n",
       "           [0.6627, 0.7569, 0.7961,  ..., 0.8784, 0.8824, 0.8902],\n",
       "           ...,\n",
       "           [0.8118, 0.8157, 0.8196,  ..., 0.8824, 0.9216, 0.9412],\n",
       "           [0.8196, 0.8235, 0.8235,  ..., 0.9059, 0.9373, 0.9451],\n",
       "           [0.7961, 0.7961, 0.7961,  ..., 0.8980, 0.9137, 0.9216]],\n",
       " \n",
       "          [[0.3020, 0.4000, 0.5098,  ..., 0.7333, 0.7373, 0.7255],\n",
       "           [0.3176, 0.4118, 0.5176,  ..., 0.7608, 0.7569, 0.7490],\n",
       "           [0.3176, 0.4157, 0.5176,  ..., 0.7529, 0.7529, 0.7412],\n",
       "           ...,\n",
       "           [0.4980, 0.5137, 0.5412,  ..., 0.7529, 0.8039, 0.8275],\n",
       "           [0.4784, 0.4980, 0.5255,  ..., 0.7804, 0.8196, 0.8353],\n",
       "           [0.4784, 0.4980, 0.5255,  ..., 0.7725, 0.8000, 0.8196]]],\n",
       " \n",
       " \n",
       "         ...,\n",
       " \n",
       " \n",
       "         [[[0.2196, 0.1961, 0.1255,  ..., 0.6275, 0.7020, 0.6392],\n",
       "           [0.1020, 0.1059, 0.1098,  ..., 0.6627, 0.7294, 0.6314],\n",
       "           [0.0941, 0.1020, 0.1176,  ..., 0.6510, 0.7137, 0.6157],\n",
       "           ...,\n",
       "           [0.3922, 0.3922, 0.3843,  ..., 0.5255, 0.5725, 0.5725],\n",
       "           [0.3882, 0.3882, 0.3882,  ..., 0.5843, 0.6275, 0.6392],\n",
       "           [0.3647, 0.3765, 0.3804,  ..., 0.5412, 0.6039, 0.6196]],\n",
       " \n",
       "          [[0.2980, 0.2706, 0.1804,  ..., 0.6471, 0.6980, 0.6549],\n",
       "           [0.1451, 0.1451, 0.1412,  ..., 0.6824, 0.7255, 0.6431],\n",
       "           [0.1333, 0.1412, 0.1529,  ..., 0.6784, 0.7137, 0.6157],\n",
       "           ...,\n",
       "           [0.4784, 0.4745, 0.4588,  ..., 0.4941, 0.5451, 0.5451],\n",
       "           [0.4706, 0.4667, 0.4588,  ..., 0.5647, 0.6039, 0.6353],\n",
       "           [0.4549, 0.4588, 0.4627,  ..., 0.5137, 0.5843, 0.6157]],\n",
       " \n",
       "          [[0.2000, 0.1686, 0.0980,  ..., 0.6627, 0.7529, 0.6706],\n",
       "           [0.0863, 0.0902, 0.0902,  ..., 0.7059, 0.7882, 0.6784],\n",
       "           [0.0824, 0.0902, 0.0941,  ..., 0.6902, 0.7647, 0.6588],\n",
       "           ...,\n",
       "           [0.3490, 0.3529, 0.3490,  ..., 0.5373, 0.6039, 0.6235],\n",
       "           [0.3451, 0.3490, 0.3529,  ..., 0.6039, 0.6745, 0.7020],\n",
       "           [0.3373, 0.3490, 0.3490,  ..., 0.5451, 0.6510, 0.6706]]],\n",
       " \n",
       " \n",
       "         [[[0.7373, 0.7059, 0.6824,  ..., 0.6353, 0.6588, 0.7216],\n",
       "           [0.4980, 0.4235, 0.4235,  ..., 0.4078, 0.4157, 0.5333],\n",
       "           [0.4039, 0.3412, 0.3451,  ..., 0.3961, 0.3804, 0.5020],\n",
       "           ...,\n",
       "           [0.6000, 0.6157, 0.6118,  ..., 0.5020, 0.5137, 0.6118],\n",
       "           [0.5922, 0.6588, 0.6863,  ..., 0.5333, 0.5373, 0.6471],\n",
       "           [0.6471, 0.7294, 0.7725,  ..., 0.6157, 0.6000, 0.6745]],\n",
       " \n",
       "          [[0.8157, 0.7333, 0.7647,  ..., 0.7647, 0.7843, 0.8471],\n",
       "           [0.5020, 0.3686, 0.4314,  ..., 0.5020, 0.5137, 0.6157],\n",
       "           [0.3961, 0.2706, 0.3412,  ..., 0.4549, 0.4392, 0.5490],\n",
       "           ...,\n",
       "           [0.7176, 0.6745, 0.6431,  ..., 0.5882, 0.5412, 0.6314],\n",
       "           [0.6863, 0.7059, 0.7176,  ..., 0.5843, 0.5373, 0.6392],\n",
       "           [0.7765, 0.8196, 0.8549,  ..., 0.6941, 0.6549, 0.7216]],\n",
       " \n",
       "          [[0.7059, 0.6314, 0.6471,  ..., 0.6549, 0.6706, 0.7098],\n",
       "           [0.4118, 0.3020, 0.3373,  ..., 0.4118, 0.4314, 0.5216],\n",
       "           [0.3176, 0.2196, 0.2627,  ..., 0.3882, 0.3882, 0.4863],\n",
       "           ...,\n",
       "           [0.5608, 0.5373, 0.5137,  ..., 0.5216, 0.5373, 0.6000],\n",
       "           [0.5647, 0.6000, 0.6196,  ..., 0.5490, 0.5412, 0.6118],\n",
       "           [0.6431, 0.7059, 0.7373,  ..., 0.6275, 0.5843, 0.6235]]],\n",
       " \n",
       " \n",
       "         [[[0.6784, 0.7529, 0.8039,  ..., 0.8078, 0.8353, 0.8039],\n",
       "           [0.7137, 0.7843, 0.8039,  ..., 0.8196, 0.8431, 0.8706],\n",
       "           [0.7255, 0.7608, 0.7804,  ..., 0.8275, 0.8471, 0.8667],\n",
       "           ...,\n",
       "           [0.5412, 0.5451, 0.5490,  ..., 0.6706, 0.6588, 0.6745],\n",
       "           [0.5373, 0.5373, 0.5216,  ..., 0.7020, 0.6745, 0.6902],\n",
       "           [0.4980, 0.4824, 0.4784,  ..., 0.6941, 0.6588, 0.6824]],\n",
       " \n",
       "          [[0.6627, 0.7647, 0.8431,  ..., 0.8275, 0.8588, 0.8314],\n",
       "           [0.7059, 0.8000, 0.8353,  ..., 0.8314, 0.8431, 0.8863],\n",
       "           [0.7176, 0.7765, 0.8078,  ..., 0.8392, 0.8392, 0.8667],\n",
       "           ...,\n",
       "           [0.5294, 0.5216, 0.5333,  ..., 0.7412, 0.7255, 0.7373],\n",
       "           [0.5176, 0.5098, 0.4941,  ..., 0.7765, 0.7255, 0.7529],\n",
       "           [0.4824, 0.4588, 0.4510,  ..., 0.7647, 0.7216, 0.7412]],\n",
       " \n",
       "          [[0.6275, 0.7686, 0.8627,  ..., 0.8588, 0.8941, 0.8784],\n",
       "           [0.6549, 0.8039, 0.8549,  ..., 0.8510, 0.8549, 0.9137],\n",
       "           [0.6784, 0.7725, 0.8235,  ..., 0.8549, 0.8549, 0.8745],\n",
       "           ...,\n",
       "           [0.4314, 0.4196, 0.4235,  ..., 0.8118, 0.7765, 0.7882],\n",
       "           [0.4118, 0.3922, 0.3765,  ..., 0.8431, 0.7647, 0.7922],\n",
       "           [0.3647, 0.3294, 0.3176,  ..., 0.8314, 0.7569, 0.7882]]]]),\n",
       " tensor([9, 4, 2, 0, 1, 8, 1, 3, 9, 5, 4, 3, 6, 9, 9, 2, 6, 6, 6, 2, 0, 7, 6, 6,\n",
       "         7, 6, 9, 5, 0, 7, 1, 4, 2, 4, 2, 9, 7, 8, 7, 0, 8, 6, 6, 8, 3, 0, 1, 0,\n",
       "         7, 5, 8, 9, 2, 5, 4, 0, 1, 6, 3, 4, 2, 6, 7, 3, 8, 9, 4, 3, 0, 5, 3, 4,\n",
       "         5, 3, 0, 3, 6, 8, 9, 3, 7, 9, 2, 5, 5, 6, 0, 1, 9, 6, 9, 2, 9, 2, 1, 5,\n",
       "         7, 6, 6, 6, 1, 3, 8, 3, 4, 9, 7, 5, 0, 4, 6, 1, 8, 0, 2, 3, 5, 4, 4, 2,\n",
       "         4, 4, 2, 9, 4, 8, 7, 5, 2, 6, 1, 4, 4, 9, 9, 1, 6, 9, 1, 5, 7, 4, 1, 7,\n",
       "         5, 1, 2, 3, 5, 5, 3, 4, 8, 5, 4, 2, 5, 5, 6, 0, 1, 9, 1, 0, 8, 5, 7, 1,\n",
       "         6, 7, 9, 3, 6, 8, 1, 5, 7, 3, 4, 8, 3, 7, 8, 3, 2, 2, 8, 3, 0, 3, 1, 4,\n",
       "         8, 6, 7, 8, 6, 4, 7, 2, 0, 9, 6, 1, 5, 1, 3, 5, 9, 9, 8, 6, 4, 9, 9, 4,\n",
       "         9, 3, 6, 1, 4, 5, 7, 7, 0, 9, 8, 0, 4, 1, 7, 9, 1, 5, 8, 3, 6, 7, 5, 5,\n",
       "         3, 6, 4, 2, 6, 3, 3, 2, 8, 6, 5, 7, 5, 2, 4, 5])]"
      ]
     },
     "execution_count": 155,
     "metadata": {},
     "output_type": "execute_result"
    }
   ],
   "source": [
    "next(iter(dataloader))"
   ]
  },
  {
   "cell_type": "code",
   "execution_count": 156,
   "id": "4c16dc4b",
   "metadata": {},
   "outputs": [],
   "source": [
    "torch.manual_seed(42)\n",
    "model.reset_params()\n",
    "model = model.to(device)"
   ]
  },
  {
   "cell_type": "code",
   "execution_count": 135,
   "id": "6dca22c4",
   "metadata": {},
   "outputs": [
    {
     "name": "stderr",
     "output_type": "stream",
     "text": [
      "  2%|▏         | 62/2940 [01:20<1:02:05,  1.29s/it]\n"
     ]
    },
    {
     "ename": "KeyboardInterrupt",
     "evalue": "",
     "output_type": "error",
     "traceback": [
      "\u001b[0;31m---------------------------------------------------------------------------\u001b[0m",
      "\u001b[0;31mKeyboardInterrupt\u001b[0m                         Traceback (most recent call last)",
      "Cell \u001b[0;32mIn[135], line 12\u001b[0m\n\u001b[1;32m     10\u001b[0m \u001b[38;5;28;01mfor\u001b[39;00m it \u001b[38;5;129;01min\u001b[39;00m tqdm(\u001b[38;5;28mrange\u001b[39m(epoch_size \u001b[38;5;241m*\u001b[39m n_epochs)):\n\u001b[1;32m     11\u001b[0m     \u001b[38;5;28;01mtry\u001b[39;00m:\n\u001b[0;32m---> 12\u001b[0m         inputs, labels \u001b[38;5;241m=\u001b[39m \u001b[38;5;28mnext\u001b[39m(data_iterator) \n\u001b[1;32m     13\u001b[0m     \u001b[38;5;28;01mexcept\u001b[39;00m \u001b[38;5;167;01mStopIteration\u001b[39;00m:\n\u001b[1;32m     14\u001b[0m         data_iterator \u001b[38;5;241m=\u001b[39m \u001b[38;5;28miter\u001b[39m(dataloader)\n",
      "File \u001b[0;32m~/stat-algs/.venv/lib/python3.11/site-packages/torch/utils/data/dataloader.py:701\u001b[0m, in \u001b[0;36m_BaseDataLoaderIter.__next__\u001b[0;34m(self)\u001b[0m\n\u001b[1;32m    698\u001b[0m \u001b[38;5;28;01mif\u001b[39;00m \u001b[38;5;28mself\u001b[39m\u001b[38;5;241m.\u001b[39m_sampler_iter \u001b[38;5;129;01mis\u001b[39;00m \u001b[38;5;28;01mNone\u001b[39;00m:\n\u001b[1;32m    699\u001b[0m     \u001b[38;5;66;03m# TODO(https://github.com/pytorch/pytorch/issues/76750)\u001b[39;00m\n\u001b[1;32m    700\u001b[0m     \u001b[38;5;28mself\u001b[39m\u001b[38;5;241m.\u001b[39m_reset()  \u001b[38;5;66;03m# type: ignore[call-arg]\u001b[39;00m\n\u001b[0;32m--> 701\u001b[0m data \u001b[38;5;241m=\u001b[39m \u001b[38;5;28;43mself\u001b[39;49m\u001b[38;5;241;43m.\u001b[39;49m\u001b[43m_next_data\u001b[49m\u001b[43m(\u001b[49m\u001b[43m)\u001b[49m\n\u001b[1;32m    702\u001b[0m \u001b[38;5;28mself\u001b[39m\u001b[38;5;241m.\u001b[39m_num_yielded \u001b[38;5;241m+\u001b[39m\u001b[38;5;241m=\u001b[39m \u001b[38;5;241m1\u001b[39m\n\u001b[1;32m    703\u001b[0m \u001b[38;5;28;01mif\u001b[39;00m (\n\u001b[1;32m    704\u001b[0m     \u001b[38;5;28mself\u001b[39m\u001b[38;5;241m.\u001b[39m_dataset_kind \u001b[38;5;241m==\u001b[39m _DatasetKind\u001b[38;5;241m.\u001b[39mIterable\n\u001b[1;32m    705\u001b[0m     \u001b[38;5;129;01mand\u001b[39;00m \u001b[38;5;28mself\u001b[39m\u001b[38;5;241m.\u001b[39m_IterableDataset_len_called \u001b[38;5;129;01mis\u001b[39;00m \u001b[38;5;129;01mnot\u001b[39;00m \u001b[38;5;28;01mNone\u001b[39;00m\n\u001b[1;32m    706\u001b[0m     \u001b[38;5;129;01mand\u001b[39;00m \u001b[38;5;28mself\u001b[39m\u001b[38;5;241m.\u001b[39m_num_yielded \u001b[38;5;241m>\u001b[39m \u001b[38;5;28mself\u001b[39m\u001b[38;5;241m.\u001b[39m_IterableDataset_len_called\n\u001b[1;32m    707\u001b[0m ):\n",
      "File \u001b[0;32m~/stat-algs/.venv/lib/python3.11/site-packages/torch/utils/data/dataloader.py:757\u001b[0m, in \u001b[0;36m_SingleProcessDataLoaderIter._next_data\u001b[0;34m(self)\u001b[0m\n\u001b[1;32m    755\u001b[0m \u001b[38;5;28;01mdef\u001b[39;00m \u001b[38;5;21m_next_data\u001b[39m(\u001b[38;5;28mself\u001b[39m):\n\u001b[1;32m    756\u001b[0m     index \u001b[38;5;241m=\u001b[39m \u001b[38;5;28mself\u001b[39m\u001b[38;5;241m.\u001b[39m_next_index()  \u001b[38;5;66;03m# may raise StopIteration\u001b[39;00m\n\u001b[0;32m--> 757\u001b[0m     data \u001b[38;5;241m=\u001b[39m \u001b[38;5;28;43mself\u001b[39;49m\u001b[38;5;241;43m.\u001b[39;49m\u001b[43m_dataset_fetcher\u001b[49m\u001b[38;5;241;43m.\u001b[39;49m\u001b[43mfetch\u001b[49m\u001b[43m(\u001b[49m\u001b[43mindex\u001b[49m\u001b[43m)\u001b[49m  \u001b[38;5;66;03m# may raise StopIteration\u001b[39;00m\n\u001b[1;32m    758\u001b[0m     \u001b[38;5;28;01mif\u001b[39;00m \u001b[38;5;28mself\u001b[39m\u001b[38;5;241m.\u001b[39m_pin_memory:\n\u001b[1;32m    759\u001b[0m         data \u001b[38;5;241m=\u001b[39m _utils\u001b[38;5;241m.\u001b[39mpin_memory\u001b[38;5;241m.\u001b[39mpin_memory(data, \u001b[38;5;28mself\u001b[39m\u001b[38;5;241m.\u001b[39m_pin_memory_device)\n",
      "File \u001b[0;32m~/stat-algs/.venv/lib/python3.11/site-packages/torch/utils/data/_utils/fetch.py:52\u001b[0m, in \u001b[0;36m_MapDatasetFetcher.fetch\u001b[0;34m(self, possibly_batched_index)\u001b[0m\n\u001b[1;32m     50\u001b[0m         data \u001b[38;5;241m=\u001b[39m \u001b[38;5;28mself\u001b[39m\u001b[38;5;241m.\u001b[39mdataset\u001b[38;5;241m.\u001b[39m__getitems__(possibly_batched_index)\n\u001b[1;32m     51\u001b[0m     \u001b[38;5;28;01melse\u001b[39;00m:\n\u001b[0;32m---> 52\u001b[0m         data \u001b[38;5;241m=\u001b[39m \u001b[43m[\u001b[49m\u001b[38;5;28;43mself\u001b[39;49m\u001b[38;5;241;43m.\u001b[39;49m\u001b[43mdataset\u001b[49m\u001b[43m[\u001b[49m\u001b[43midx\u001b[49m\u001b[43m]\u001b[49m\u001b[43m \u001b[49m\u001b[38;5;28;43;01mfor\u001b[39;49;00m\u001b[43m \u001b[49m\u001b[43midx\u001b[49m\u001b[43m \u001b[49m\u001b[38;5;129;43;01min\u001b[39;49;00m\u001b[43m \u001b[49m\u001b[43mpossibly_batched_index\u001b[49m\u001b[43m]\u001b[49m\n\u001b[1;32m     53\u001b[0m \u001b[38;5;28;01melse\u001b[39;00m:\n\u001b[1;32m     54\u001b[0m     data \u001b[38;5;241m=\u001b[39m \u001b[38;5;28mself\u001b[39m\u001b[38;5;241m.\u001b[39mdataset[possibly_batched_index]\n",
      "File \u001b[0;32m~/stat-algs/.venv/lib/python3.11/site-packages/torch/utils/data/_utils/fetch.py:52\u001b[0m, in \u001b[0;36m<listcomp>\u001b[0;34m(.0)\u001b[0m\n\u001b[1;32m     50\u001b[0m         data \u001b[38;5;241m=\u001b[39m \u001b[38;5;28mself\u001b[39m\u001b[38;5;241m.\u001b[39mdataset\u001b[38;5;241m.\u001b[39m__getitems__(possibly_batched_index)\n\u001b[1;32m     51\u001b[0m     \u001b[38;5;28;01melse\u001b[39;00m:\n\u001b[0;32m---> 52\u001b[0m         data \u001b[38;5;241m=\u001b[39m [\u001b[38;5;28;43mself\u001b[39;49m\u001b[38;5;241;43m.\u001b[39;49m\u001b[43mdataset\u001b[49m\u001b[43m[\u001b[49m\u001b[43midx\u001b[49m\u001b[43m]\u001b[49m \u001b[38;5;28;01mfor\u001b[39;00m idx \u001b[38;5;129;01min\u001b[39;00m possibly_batched_index]\n\u001b[1;32m     53\u001b[0m \u001b[38;5;28;01melse\u001b[39;00m:\n\u001b[1;32m     54\u001b[0m     data \u001b[38;5;241m=\u001b[39m \u001b[38;5;28mself\u001b[39m\u001b[38;5;241m.\u001b[39mdataset[possibly_batched_index]\n",
      "Cell \u001b[0;32mIn[131], line 15\u001b[0m, in \u001b[0;36mCIFARTensorStoreDataset.__getitem__\u001b[0;34m(self, idx)\u001b[0m\n\u001b[1;32m     14\u001b[0m \u001b[38;5;28;01mdef\u001b[39;00m \u001b[38;5;21m__getitem__\u001b[39m(\u001b[38;5;28mself\u001b[39m, idx):\n\u001b[0;32m---> 15\u001b[0m     image \u001b[38;5;241m=\u001b[39m np\u001b[38;5;241m.\u001b[39marray(\u001b[38;5;28mself\u001b[39m\u001b[38;5;241m.\u001b[39mimage_ts[idx])\n\u001b[1;32m     16\u001b[0m     label \u001b[38;5;241m=\u001b[39m \u001b[38;5;28mint\u001b[39m(\u001b[38;5;28mself\u001b[39m\u001b[38;5;241m.\u001b[39mlabel_ts[idx])\n\u001b[1;32m     18\u001b[0m     image \u001b[38;5;241m=\u001b[39m Image\u001b[38;5;241m.\u001b[39mfromarray(image)  \n",
      "\u001b[0;31mKeyboardInterrupt\u001b[0m: "
     ]
    }
   ],
   "source": [
    "loss_fn = nn.CrossEntropyLoss()\n",
    "optimizer = torch.optim.AdamW(model.parameters(), lr=5e-3)\n",
    "\n",
    "\n",
    "loss_history = []\n",
    "loss_epoch = []\n",
    "epoch_size = len(dataloader)\n",
    "data_iterator = iter(dataloader)\n",
    "\n",
    "for it in tqdm(range(epoch_size * n_epochs)):\n",
    "    try:\n",
    "        inputs, labels = next(data_iterator) \n",
    "    except StopIteration:\n",
    "        data_iterator = iter(dataloader)\n",
    "        inputs, labels = next(data_iterator) \n",
    "\n",
    "    inputs = inputs.to(device)\n",
    "    labels = labels.to(device)\n",
    "\n",
    "    optimizer.zero_grad()\n",
    "\n",
    "    out = model(inputs)\n",
    "    loss = loss_fn(out, labels)\n",
    "\n",
    "    loss_history.append(loss.item())\n",
    "\n",
    "    loss.backward()\n",
    "    optimizer.step()\n",
    "\n",
    "    if it % epoch_size == 0:\n",
    "        loss_epoch.append(np.mean(loss_history[-epoch_size:]))"
   ]
  },
  {
   "cell_type": "code",
   "execution_count": null,
   "id": "48a75db1",
   "metadata": {},
   "outputs": [
    {
     "data": {
      "image/png": "[encoded data removed]",
      "text/plain": [
       "<Figure size 640x480 with 1 Axes>"
      ]
     },
     "metadata": {},
     "output_type": "display_data"
    }
   ],
   "source": [
    "plt.plot(loss_history, linewidth=0.4)\n",
    "plt.plot(np.arange(n_epochs) * epoch_size, loss_epoch, \"-o\")\n",
    "plt.show()"
   ]
  },
  {
   "cell_type": "markdown",
   "id": "cd8a7bd3",
   "metadata": {},
   "source": [
    "# 5. Keras dataset loader\n",
    "\n",
    "В бібліотеці tensorstore є спеціальні методи для того, щоб читати дані із файлової системи 9та змінювати їх \"на льоту\".\n",
    "\n",
    "Завдання:\n",
    "- Використайте раніше збережені картинки у теці, та побудуйте data loader для них\n",
    "- Навчіть модель, та поміряйте час\n",
    "\n",
    "Links:\n",
    "- https://keras.io/api/data_loading/"
   ]
  },
  {
   "cell_type": "code",
   "execution_count": 169,
   "id": "cee41fcb",
   "metadata": {},
   "outputs": [],
   "source": [
    "batch_size = 256 \n",
    "n_epochs = 15 \n",
    "cifarif = ImageFolder(\"data/cifar10/cifar-10-converted\", transform=torchvision.transforms.ToTensor())\n",
    "dataloader = DataLoader(cifarif, batch_size=batch_size, shuffle=True)"
   ]
  },
  {
   "cell_type": "code",
   "execution_count": 170,
   "id": "9de3dd29",
   "metadata": {},
   "outputs": [],
   "source": [
    "torch.manual_seed(42)\n",
    "model.reset_params()\n",
    "model = model.to(device)"
   ]
  },
  {
   "cell_type": "code",
   "execution_count": 171,
   "id": "6f37bd04",
   "metadata": {},
   "outputs": [
    {
     "name": "stderr",
     "output_type": "stream",
     "text": [
      "100%|██████████| 2940/2940 [02:30<00:00, 19.48it/s]\n"
     ]
    }
   ],
   "source": [
    "loss_fn = nn.CrossEntropyLoss()\n",
    "optimizer = torch.optim.AdamW(model.parameters(), lr=5e-3)\n",
    "\n",
    "\n",
    "loss_history = []\n",
    "loss_epoch = []\n",
    "epoch_size = len(dataloader)\n",
    "data_iterator = iter(dataloader)\n",
    "\n",
    "for it in tqdm(range(epoch_size * n_epochs)):\n",
    "    try:\n",
    "        inputs, labels = next(data_iterator) \n",
    "    except StopIteration:\n",
    "        data_iterator = iter(dataloader)\n",
    "        inputs, labels = next(data_iterator) \n",
    "\n",
    "    inputs = inputs.to(device)\n",
    "    labels = labels.to(device)\n",
    "\n",
    "    optimizer.zero_grad()\n",
    "\n",
    "    out = model(inputs)\n",
    "    loss = loss_fn(out, labels)\n",
    "\n",
    "    loss_history.append(loss.item())\n",
    "\n",
    "    loss.backward()\n",
    "    optimizer.step()\n",
    "\n",
    "    if it % epoch_size == 0:\n",
    "        loss_epoch.append(np.mean(loss_history[-epoch_size:]))"
   ]
  },
  {
   "cell_type": "code",
   "execution_count": 172,
   "id": "e12fb93c",
   "metadata": {},
   "outputs": [
    {
     "data": {
      "image/png": "[encoded data removed]",
      "text/plain": [
       "<Figure size 640x480 with 1 Axes>"
      ]
     },
     "metadata": {},
     "output_type": "display_data"
    }
   ],
   "source": [
    "plt.plot(loss_history, linewidth=0.4)\n",
    "plt.plot(np.arange(n_epochs) * epoch_size, loss_epoch, \"-o\")\n",
    "plt.show()"
   ]
  },
  {
   "cell_type": "markdown",
   "id": "fb7e8bda",
   "metadata": {},
   "source": [
    "# Висновки\n",
    "\n",
    "Напишіть висновки:\n",
    "- Який підхід був найзручніший?\n",
    "- Який підхід дав змогу навчати модельі швидше?"
   ]
  },
  {
   "cell_type": "markdown",
   "id": "5941d7f7",
   "metadata": {},
   "source": [
    "Найшвидше напряму з памʼяті, буде ще швидше якщо датасет в гпу памʼять завантажити, але на практиці не має сенсу"
   ]
  },
  {
   "cell_type": "markdown",
   "id": "120cab6f",
   "metadata": {},
   "source": [
    "Найзручніше або свій датасет або ImageFolder"
   ]
  },
  {
   "cell_type": "markdown",
   "id": "6986931f",
   "metadata": {},
   "source": []
  }
 ],
 "metadata": {
  "kernelspec": {
   "display_name": ".venv",
   "language": "python",
   "name": "python3"
  },
  "language_info": {
   "codemirror_mode": {
    "name": "ipython",
    "version": 3
   },
   "file_extension": ".py",
   "mimetype": "text/x-python",
   "name": "python",
   "nbconvert_exporter": "python",
   "pygments_lexer": "ipython3",
   "version": "3.11.9"
  }
 },
 "nbformat": 4,
 "nbformat_minor": 5
}
