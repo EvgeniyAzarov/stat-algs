{
 "cells": [
  {
   "cell_type": "code",
   "execution_count": 1,
   "id": "2bad758e",
   "metadata": {},
   "outputs": [
    {
     "name": "stderr",
     "output_type": "stream",
     "text": [
      "2024-10-20 18:08:41.595857: I tensorflow/core/util/port.cc:153] oneDNN custom operations are on. You may see slightly different numerical results due to floating-point round-off errors from different computation orders. To turn them off, set the environment variable `TF_ENABLE_ONEDNN_OPTS=0`.\n",
      "2024-10-20 18:08:41.942042: E external/local_xla/xla/stream_executor/cuda/cuda_fft.cc:485] Unable to register cuFFT factory: Attempting to register factory for plugin cuFFT when one has already been registered\n",
      "2024-10-20 18:08:42.055507: E external/local_xla/xla/stream_executor/cuda/cuda_dnn.cc:8454] Unable to register cuDNN factory: Attempting to register factory for plugin cuDNN when one has already been registered\n",
      "2024-10-20 18:08:42.088861: E external/local_xla/xla/stream_executor/cuda/cuda_blas.cc:1452] Unable to register cuBLAS factory: Attempting to register factory for plugin cuBLAS when one has already been registered\n",
      "2024-10-20 18:08:42.327752: I tensorflow/core/platform/cpu_feature_guard.cc:210] This TensorFlow binary is optimized to use available CPU instructions in performance-critical operations.\n",
      "To enable the following instructions: AVX2 AVX_VNNI FMA, in other operations, rebuild TensorFlow with the appropriate compiler flags.\n",
      "2024-10-20 18:08:43.221612: W tensorflow/compiler/tf2tensorrt/utils/py_utils.cc:38] TF-TRT Warning: Could not find TensorRT\n"
     ]
    }
   ],
   "source": [
    "import numpy as np\n",
    "from matplotlib import pyplot as plt\n",
    "import tensorflow\n",
    "from tensorflow import keras\n",
    "from tensorflow.keras import layers"
   ]
  },
  {
   "cell_type": "markdown",
   "id": "b8a78d57",
   "metadata": {},
   "source": [
    "# 0. Підготовка\n",
    "\n",
    "Варіанти даних:\n",
    "1. https://keras.io/2.16/api/datasets/cifar10/\n",
    "2. https://keras.io/2.16/api/datasets/fashion_mnist/\n",
    "3. https://keras.io/2.16/api/datasets/mnist/\n",
    "\n",
    "Задачі:\n",
    "- Завантажте вибірку із keras\n",
    "- Зберіть архітекуру для 10-ти класової класифікації\n",
    "- Протестуйте що вона працює, викликавши функцію predict\n",
    "- Модель навчатимите в інших частинах роботи!!!\n",
    "\n",
    "Варіанти архітектур нейромереж:\n",
    "1. Lenet\n",
    "2. Alexnet\n",
    "\n",
    "Links:\n",
    "- https://keras.io/api/datasets/mnist/"
   ]
  },
  {
   "cell_type": "markdown",
   "id": "b3a85543",
   "metadata": {},
   "source": [
    "#  1. As is in RAM\n",
    "\n",
    "- навчіть 10 епох нейромережі-класифікатора \n",
    "- скільки сумарно часу витрачено?"
   ]
  },
  {
   "cell_type": "code",
   "execution_count": null,
   "id": "98f21f13",
   "metadata": {},
   "outputs": [],
   "source": []
  },
  {
   "cell_type": "markdown",
   "id": "2727e138",
   "metadata": {},
   "source": [
    "# 2. Keras sequence\n",
    "keras.utils.Sequence - спеціальний клас-генератор для вибірки, який можна подавати на вхід мереді замість навчальних даних (бо він всередині їх містить). Важливою властивістю його є те - що він дозволяє ітерувати по навчальним даним і: змінювати, аугментувати, завантажувати \"на льоту\".\n",
    "\n",
    "Задача:\n",
    "- збрежіть всі картинки у теку на жорсткому диску. \n",
    "- Створіть клас на основі keras.utils.Sequence та використайте його як генератор вибірки\n",
    "- Цей новий клас прийматиме список шляхів до файлів\n",
    "- Всередині цього нового класу картинки мають завантажуватися під всередині методу __getitem__ лише для вказаного батчу\n",
    "\n",
    "Задачі по варіантам. Додайте аугментації:\n",
    "1. Корекція тону (випадково)\n",
    "2. Повороти на 90, 180, 270 градусів; \n",
    "3. додавайте нормальний шум з дисперсію 1 (якщо тон пікселів від 0 до 255), інакше - 0.001\n",
    "4. Зрізайте картинку випадково так, щоб залишилося 14 на 14 пікселів. Робіть ресайз до 28х28\n",
    "5. Відзеркалення зображень\n",
    "\n",
    "Links:\n",
    "- https://stanford.edu/~shervine/blog/keras-how-to-generate-data-on-the-fly"
   ]
  },
  {
   "cell_type": "code",
   "execution_count": null,
   "id": "0c074381",
   "metadata": {},
   "outputs": [],
   "source": []
  },
  {
   "cell_type": "markdown",
   "id": "2c6d63a8",
   "metadata": {},
   "source": [
    "# 3. Read from folder\n",
    "Не завжди всі данні для навчання можливо вмістити у оперативну пам'ять. Для цього доводиться зберігати їх на жорсткому диску, та завантажувати по необхідності\n",
    "\n",
    "- Навчіть 10 ітерацій \n",
    "- скільки часу витрачено?\n",
    "\n",
    "Таким чином, вам потрібно буде більше часу на навчання, але великі об'ємі даних тепер - не є завадою\n",
    "\n",
    "\n",
    "\n",
    "Links:\n",
    "- https://stanford.edu/~shervine/blog/keras-how-to-generate-data-on-the-fly"
   ]
  },
  {
   "cell_type": "code",
   "execution_count": null,
   "id": "3ec6bbb9",
   "metadata": {},
   "outputs": [],
   "source": []
  },
  {
   "cell_type": "markdown",
   "id": "be3cc9c4",
   "metadata": {},
   "source": [
    "# 4. Tensorstore\n",
    "\n",
    "Дійсно, кожен раз завантажувати дані - то повільно. Зараз ми з вами збережемо їх послідовно на жорсткому диску, що дозволить нам значно швидше їх зчитувати. Для цього використаємо фреймворк Tensorstore. Робота з ним нагадуватиме роботу із numpy\n",
    "\n",
    "- Використайте tensorstore, творіть сховище (4-вимірний масив)\n",
    "- Покладіть картинки у сховище\n",
    "- Створіть ще один аналог keras.utils.Sequence, та зчитуйте картинки із вашого tensorstore\n",
    "- Навчіть модель, та поміряйте час\n",
    "\n",
    "Links:\n",
    "- https://google.github.io/tensorstore/python/tutorial.html"
   ]
  },
  {
   "cell_type": "code",
   "execution_count": null,
   "id": "59df2d52",
   "metadata": {},
   "outputs": [],
   "source": []
  },
  {
   "cell_type": "markdown",
   "id": "cd8a7bd3",
   "metadata": {},
   "source": [
    "# 5. Keras dataset loader\n",
    "\n",
    "В бібліотеці tensorstore є спеціальні методи для того, щоб читати дані із файлової системи 9та змінювати їх \"на льоту\".\n",
    "\n",
    "Завдання:\n",
    "- Використайте раніше збережені картинки у теці, та побудуйте data loader для них\n",
    "- Навчіть модель, та поміряйте час\n",
    "\n",
    "Links:\n",
    "- https://keras.io/api/data_loading/"
   ]
  },
  {
   "cell_type": "code",
   "execution_count": null,
   "id": "10617128",
   "metadata": {},
   "outputs": [],
   "source": []
  },
  {
   "cell_type": "markdown",
   "id": "fb7e8bda",
   "metadata": {},
   "source": [
    "# Висновки\n",
    "\n",
    "Напишіть висновки:\n",
    "- Який підхід був найзручніший?\n",
    "- Який підхід дав змогу навчати модельі швидше?"
   ]
  },
  {
   "cell_type": "code",
   "execution_count": null,
   "id": "5941d7f7",
   "metadata": {},
   "outputs": [],
   "source": []
  },
  {
   "cell_type": "code",
   "execution_count": null,
   "id": "120cab6f",
   "metadata": {},
   "outputs": [],
   "source": []
  }
 ],
 "metadata": {
  "kernelspec": {
   "display_name": "Python 3 (ipykernel)",
   "language": "python",
   "name": "python3"
  },
  "language_info": {
   "codemirror_mode": {
    "name": "ipython",
    "version": 3
   },
   "file_extension": ".py",
   "mimetype": "text/x-python",
   "name": "python",
   "nbconvert_exporter": "python",
   "pygments_lexer": "ipython3",
   "version": "3.10.12"
  }
 },
 "nbformat": 4,
 "nbformat_minor": 5
}
