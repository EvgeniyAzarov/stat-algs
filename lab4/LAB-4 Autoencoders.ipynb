{
 "cells": [
  {
   "cell_type": "code",
   "execution_count": 1,
   "id": "fd864c1a-6bc4-436d-bcb3-e451a4996c18",
   "metadata": {},
   "outputs": [
    {
     "name": "stderr",
     "output_type": "stream",
     "text": [
      "2024-10-17 20:59:54.469124: E external/local_xla/xla/stream_executor/cuda/cuda_fft.cc:485] Unable to register cuFFT factory: Attempting to register factory for plugin cuFFT when one has already been registered\n",
      "2024-10-17 20:59:54.544460: E external/local_xla/xla/stream_executor/cuda/cuda_dnn.cc:8454] Unable to register cuDNN factory: Attempting to register factory for plugin cuDNN when one has already been registered\n",
      "2024-10-17 20:59:54.565828: E external/local_xla/xla/stream_executor/cuda/cuda_blas.cc:1452] Unable to register cuBLAS factory: Attempting to register factory for plugin cuBLAS when one has already been registered\n",
      "2024-10-17 20:59:54.700281: I tensorflow/core/platform/cpu_feature_guard.cc:210] This TensorFlow binary is optimized to use available CPU instructions in performance-critical operations.\n",
      "To enable the following instructions: AVX2 FMA, in other operations, rebuild TensorFlow with the appropriate compiler flags.\n",
      "2024-10-17 20:59:56.098984: W tensorflow/compiler/tf2tensorrt/utils/py_utils.cc:38] TF-TRT Warning: Could not find TensorRT\n"
     ]
    }
   ],
   "source": [
    "import pandas as pd\n",
    "from matplotlib import pyplot as plt\n",
    "import numpy as np\n",
    "from tqdm import tqdm\n",
    "\n",
    "import tensorflow as tf\n",
    "from tensorflow import keras\n",
    "from tensorflow.keras import layers"
   ]
  },
  {
   "cell_type": "markdown",
   "id": "7ef839ff-5ab6-4a15-aa24-a7079abb6f3e",
   "metadata": {},
   "source": [
    "# Задача:\n",
    "Відповідно до варіанту, вам необхідно виконати наступні 9 кроків:\n",
    "\n",
    "1. Перевчіть відповідну модель із вказаною функцією втрат на вказаних даних відповідно до варіанту\n",
    "2. Використайте тестові данні для вчасної зупинки моделі (коли тестова якість вже не зростає)\n",
    "3. Зробіть передбачення моделлю та візуалізуйте вихід (25 зображень для начальних і 25 для тестувальних даних)\n",
    "4. \"відріжте\" декодер, та отримайте представлення картинок через латентний шар (має вийти вектор)\n",
    "5. Скомлілюйте нову мережу лише з декодера, щоб на вхід він отримував вектор (розмірність та ж сама, що і в латентному шарі)\n",
    "6. Створіть декілька випадкових векторів та отримайте значення декодеру на них. Візуалізуйте. Чи чиглядають згенеровані картинки правдоподібно?\n",
    "7. Випадково оберіть 5 пар картинок. Проженіть їх через енкодер і отримайте 5 пар векторів\n",
    "8. Для кожної пари векторів, побудуйте нових 10 векторів як лінійну комбінацію двох (можна із кроком 0.1)\n",
    "9. Декодуйте (декодеров) вектори в зображення та зобразіть їх разом із оригінальними.\n",
    "   \n",
    "Звіт:\n",
    "- Чи вдалося запобігти перенавчанню?\n",
    "- Чи правдоподібно \"муха переходить в слона\"?"
   ]
  },
  {
   "cell_type": "markdown",
   "id": "0d8ed97c",
   "metadata": {},
   "source": [
    "$k / n * mu_1 + (1 - k / n) * mu_2 $"
   ]
  },
  {
   "cell_type": "markdown",
   "id": "fe255c47-a9a1-4a8b-b7c2-4fd5f75725ec",
   "metadata": {},
   "source": [
    "## Данні по варіантам:\n",
    "1. mnist https://keras.io/api/datasets/mnist/\n",
    "2. fasion mnist https://keras.io/api/datasets/fashion_mnist/\n",
    "3. cifar-10 https://keras.io/api/datasets/cifar10/\n",
    "\n",
    "## Моделі по варіантам:\n",
    "1. VAE\n",
    "2. Autoencoder\n",
    "\n",
    "## Функції втрат по варіантам \n",
    "1. MAE\n",
    "2. MSE\n",
    "3. 0.3 * MAE + 0.7 * MSE\n",
    "4. rMSE\n",
    "* ті, у кого VAE, додають ще дивергенцію Кульбака-Ляйблера\n",
    "\n",
    "## Links:\n",
    "- unet: https://keras.io/examples/vision/oxford_pets_image_segmentation/\n",
    "- autoencoder: https://keras.io/examples/vision/autoencoder/\n",
    "- VAE: https://keras.io/examples/generative/vae/\n",
    "- Early stop https://keras.io/api/callbacks/early_stopping/"
   ]
  },
  {
   "cell_type": "code",
   "execution_count": null,
   "id": "bf179555-f4f9-4f71-b9c1-66fa326f3a7f",
   "metadata": {},
   "outputs": [],
   "source": []
  },
  {
   "cell_type": "code",
   "execution_count": null,
   "id": "6e509d3d-86d7-4b56-a6ed-8989ae6eb659",
   "metadata": {},
   "outputs": [],
   "source": []
  },
  {
   "cell_type": "code",
   "execution_count": null,
   "id": "0a0ae1b3-c507-46a2-9c69-a72c58b5b630",
   "metadata": {},
   "outputs": [],
   "source": []
  },
  {
   "cell_type": "code",
   "execution_count": null,
   "id": "cd154669-662e-4757-8a71-558542788150",
   "metadata": {},
   "outputs": [],
   "source": []
  },
  {
   "cell_type": "code",
   "execution_count": null,
   "id": "5cccabcc-3961-4d2f-a4c8-cd32696bdb68",
   "metadata": {},
   "outputs": [],
   "source": []
  },
  {
   "cell_type": "code",
   "execution_count": null,
   "id": "4635c215-7faa-47c1-b61d-ca2b7d1c82e4",
   "metadata": {},
   "outputs": [],
   "source": []
  },
  {
   "cell_type": "code",
   "execution_count": null,
   "id": "46d40a35-e927-48f9-8d02-75158f995572",
   "metadata": {},
   "outputs": [],
   "source": []
  }
 ],
 "metadata": {
  "kernelspec": {
   "display_name": "Python 3 (ipykernel)",
   "language": "python",
   "name": "python3"
  },
  "language_info": {
   "codemirror_mode": {
    "name": "ipython",
    "version": 3
   },
   "file_extension": ".py",
   "mimetype": "text/x-python",
   "name": "python",
   "nbconvert_exporter": "python",
   "pygments_lexer": "ipython3",
   "version": "3.10.12"
  }
 },
 "nbformat": 4,
 "nbformat_minor": 5
}
